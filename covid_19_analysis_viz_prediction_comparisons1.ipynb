{
  "nbformat": 4,
  "nbformat_minor": 0,
  "metadata": {
    "kernelspec": {
      "name": "python3",
      "display_name": "Python 3"
    },
    "language_info": {
      "codemirror_mode": {
        "name": "ipython",
        "version": 3
      },
      "file_extension": ".py",
      "mimetype": "text/x-python",
      "name": "python",
      "nbconvert_exporter": "python",
      "pygments_lexer": "ipython3",
      "version": "3.6.6"
    },
    "colab": {
      "name": "covid-19-analysis-viz-prediction-comparisons.ipynb",
      "provenance": [],
      "collapsed_sections": [
        "ptwcVeanrnLh",
        "bYgLmPeQrnLu",
        "Z-OL1dltrnLv",
        "buDx6Sv1rnLy",
        "9mpm5UGCrnL3",
        "RpA9uzRarnL7",
        "W8wWebtOrnL-",
        "mrJnpHi3rnMC",
        "SJ7AR1QfrnMG",
        "Rk8RxOhNrnMM",
        "oqNA69OjrnMP",
        "wjwjrWKFrnMS",
        "5nzxNvwCrnMu"
      ],
      "include_colab_link": true
    }
  },
  "cells": [
    {
      "cell_type": "markdown",
      "metadata": {
        "id": "view-in-github",
        "colab_type": "text"
      },
      "source": [
        "<a href=\"https://colab.research.google.com/github/Moelucky/CoronaVirus-Analysis/blob/master/covid_19_analysis_viz_prediction_comparisons1.ipynb\" target=\"_parent\"><img src=\"https://colab.research.google.com/assets/colab-badge.svg\" alt=\"Open In Colab\"/></a>"
      ]
    },
    {
      "cell_type": "markdown",
      "metadata": {
        "id": "Ch1HwrKKrnKp",
        "colab_type": "text"
      },
      "source": [
        "# Libraries"
      ]
    },
    {
      "cell_type": "code",
      "metadata": {
        "_cell_guid": "b1076dfc-b9ad-4769-8c92-a6c4dae69d19",
        "_kg_hide-input": true,
        "_kg_hide-output": true,
        "_uuid": "8f2839f25d086af736a60e9eeb907d3b93b6e0e5",
        "id": "v77nvDlZrnKs",
        "colab_type": "code",
        "colab": {}
      },
      "source": [
        "# storing and anaysis\n",
        "import numpy as np\n",
        "import pandas as pd\n",
        "\n",
        "# visualization\n",
        "import matplotlib.pyplot as plt\n",
        "import matplotlib.dates as mdates\n",
        "import seaborn as sns\n",
        "from plotnine import *\n",
        "import plotly.express as px\n",
        "import folium\n",
        "\n",
        "# color pallette\n",
        "cdr = ['#393e46', '#ff2e63', '#30e3ca'] # grey - red - blue\n",
        "idr = ['#f8b400', '#ff2e63', '#30e3ca'] # yellow - red - blue"
      ],
      "execution_count": 0,
      "outputs": []
    },
    {
      "cell_type": "markdown",
      "metadata": {
        "id": "8o7sGrCarnKw",
        "colab_type": "text"
      },
      "source": [
        "# Dataset"
      ]
    },
    {
      "cell_type": "code",
      "metadata": {
        "_kg_hide-input": true,
        "_kg_hide-output": true,
        "id": "mSJnSS06rnKx",
        "colab_type": "code",
        "colab": {}
      },
      "source": [
        "# !ls -lt ../input/corona-virus-report"
      ],
      "execution_count": 0,
      "outputs": []
    },
    {
      "cell_type": "code",
      "metadata": {
        "id": "62EpAUli_c3W",
        "colab_type": "code",
        "colab": {}
      },
      "source": [
        "import csv\n",
        "import pandas as pd\n",
        "from http.cookiejar import CookieJar\n",
        "from urllib.request import build_opener, HTTPCookieProcessor\n",
        "url_doc=\"https://docs.google.com/spreadsheets/u/0/d/e/2PACX-1vR30F8lYP3jG7YOq8es0PBpJIE5yvRVZffOyaqC0GgMBN6yt0Q-NI8pxS7hd1F9dYXnowSC6zpZmW9D/pubhtml/sheet?headers=false&gid=0\"\n",
        "opener = build_opener(HTTPCookieProcessor(CookieJar()))\n",
        "resp = opener.open(url_doc)\n",
        "# should really parse resp.getheader('content-type') for encoding.\n",
        "csv_content = resp.read().decode('utf-8')\n",
        "csv_content\n",
        "#corona_csv = csv_content.open(\"corona.csv\")\n",
        "#corona = pd.read_csv(corona_csv)\n",
        "#corona.head()"
      ],
      "execution_count": 0,
      "outputs": []
    },
    {
      "cell_type": "code",
      "metadata": {
        "id": "UJm5Khm9awrZ",
        "colab_type": "code",
        "outputId": "142da328-9f35-4e7d-85c6-e66565b142e2",
        "colab": {
          "base_uri": "https://localhost:8080/",
          "height": 231
        }
      },
      "source": [
        "# importing live dataset from BNO news\n",
        "import pandas as pd\n",
        "#import requests\n",
        "import urllib.request\n",
        "\n",
        "\n",
        "from io import StringIO\n",
        "#url=\"https://docs.google.com/spreadsheets/u/0/d/e/2PACX-1vR30F8lYP3jG7YOq8es0PBpJIE5yvRVZffOyaqC0GgMBN6yt0Q-NI8pxS7hd1F9dYXnowSC6zpZmW9D/pubhtml/sheet?headers=false&gid=0\"\n",
        "full_url=\"https://docs.google.com/spreadsheets/d/1hbHqrnYa4oMUquZcq8WkTJk0kI0t9scGBwro-EH-ALA/pubhtml\"\n",
        "r = urllib.request.Request(full_url)\n",
        "xoxo = StringIO(r)\n",
        "salaries_csv = xoxo.open(\"Salaries.csv\")\n",
        "salaries = pd.read_csv(salaries_csv)\n"
      ],
      "execution_count": 2,
      "outputs": [
        {
          "output_type": "error",
          "ename": "TypeError",
          "evalue": "ignored",
          "traceback": [
            "\u001b[0;31m---------------------------------------------------------------------------\u001b[0m",
            "\u001b[0;31mTypeError\u001b[0m                                 Traceback (most recent call last)",
            "\u001b[0;32m<ipython-input-2-69dc221484d0>\u001b[0m in \u001b[0;36m<module>\u001b[0;34m()\u001b[0m\n\u001b[1;32m      8\u001b[0m \u001b[0mfull_url\u001b[0m\u001b[0;34m=\u001b[0m\u001b[0;34m\"https://docs.google.com/spreadsheets/d/1hbHqrnYa4oMUquZcq8WkTJk0kI0t9scGBwro-EH-ALA/pubhtml\"\u001b[0m\u001b[0;34m\u001b[0m\u001b[0;34m\u001b[0m\u001b[0m\n\u001b[1;32m      9\u001b[0m \u001b[0mr\u001b[0m \u001b[0;34m=\u001b[0m \u001b[0murllib\u001b[0m\u001b[0;34m.\u001b[0m\u001b[0mrequest\u001b[0m\u001b[0;34m.\u001b[0m\u001b[0mRequest\u001b[0m\u001b[0;34m(\u001b[0m\u001b[0mfull_url\u001b[0m\u001b[0;34m)\u001b[0m\u001b[0;34m\u001b[0m\u001b[0;34m\u001b[0m\u001b[0m\n\u001b[0;32m---> 10\u001b[0;31m \u001b[0mxoxo\u001b[0m \u001b[0;34m=\u001b[0m \u001b[0mStringIO\u001b[0m\u001b[0;34m(\u001b[0m\u001b[0mr\u001b[0m\u001b[0;34m)\u001b[0m\u001b[0;34m\u001b[0m\u001b[0;34m\u001b[0m\u001b[0m\n\u001b[0m\u001b[1;32m     11\u001b[0m \u001b[0msalaries_csv\u001b[0m \u001b[0;34m=\u001b[0m \u001b[0mxoxo\u001b[0m\u001b[0;34m.\u001b[0m\u001b[0mopen\u001b[0m\u001b[0;34m(\u001b[0m\u001b[0;34m\"Salaries.csv\"\u001b[0m\u001b[0;34m)\u001b[0m\u001b[0;34m\u001b[0m\u001b[0;34m\u001b[0m\u001b[0m\n\u001b[1;32m     12\u001b[0m \u001b[0msalaries\u001b[0m \u001b[0;34m=\u001b[0m \u001b[0mpd\u001b[0m\u001b[0;34m.\u001b[0m\u001b[0mread_csv\u001b[0m\u001b[0;34m(\u001b[0m\u001b[0msalaries_csv\u001b[0m\u001b[0;34m)\u001b[0m\u001b[0;34m\u001b[0m\u001b[0;34m\u001b[0m\u001b[0m\n",
            "\u001b[0;31mTypeError\u001b[0m: initial_value must be str or None, not Request"
          ]
        }
      ]
    },
    {
      "cell_type": "code",
      "metadata": {
        "id": "nNlGxhSy6U8y",
        "colab_type": "code",
        "colab": {}
      },
      "source": [
        "import requests\n",
        "response = requests.get('https://docs.google.com/spreadsheet/ccc?key=0ArM5yzzCw9IZdEdLWlpHT1FCcUpYQ2RjWmZYWmNwbXc&output=csv')\n",
        "assert response.status_code == 200, 'Wrong status code'\n",
        "print(response.content)"
      ],
      "execution_count": 0,
      "outputs": []
    },
    {
      "cell_type": "code",
      "metadata": {
        "id": "ukKO7SbhuxIw",
        "colab_type": "code",
        "colab": {}
      },
      "source": [
        "\n",
        "url = requests.get('https://docs.google.com/spreadsheets/u/0/d/e/2PACX-1vR30F8lYP3jG7YOq8es0PBpJIE5yvRVZffOyaqC0GgMBN6yt0Q-NI8pxS7hd1F9dYXnowSC6zpZmW9D/pubhtml/sheet?headers=false&gid=0')\n",
        "csv_raw = StringIO(url.text)\n",
        "df = pd.read_csv('csv_raw.csv', header=None, sep='\\n')\n",
        "df = df[0].str.split(',', expand=True)\n",
        "\n",
        "\n",
        "df.head()"
      ],
      "execution_count": 0,
      "outputs": []
    },
    {
      "cell_type": "code",
      "metadata": {
        "id": "0xdK1CRhfVwV",
        "colab_type": "code",
        "colab": {}
      },
      "source": [
        "StringIO?"
      ],
      "execution_count": 0,
      "outputs": []
    },
    {
      "cell_type": "code",
      "metadata": {
        "_kg_hide-input": true,
        "_kg_hide-output": true,
        "id": "WQ1gfPJOrnK0",
        "colab_type": "code",
        "colab": {}
      },
      "source": [
        "# importing datasets\n",
        "#from google.colab import files\n",
        "#uploaded = files.upload()\n",
        "#full_table = pd.read_csv('covid_19_clean_complete.csv', \n",
        "#                         parse_dates=['Date'])\n",
        "url= 'https://raw.githubusercontent.com/Moelucky/CoronaVirus-Analysis/master/.github/workflows/covid_19_clean_complete.csv'\n",
        "full_table = pd.read_csv(url, parse_dates=['Date'])\n",
        "full_table.head()"
      ],
      "execution_count": 0,
      "outputs": []
    },
    {
      "cell_type": "code",
      "metadata": {
        "id": "9O-OFnwDrnK4",
        "colab_type": "code",
        "colab": {}
      },
      "source": [
        "# dataframe info\n",
        "# full_table.info()\n",
        "\n",
        "# checking for missing value\n",
        "# full_table.isna().sum()"
      ],
      "execution_count": 0,
      "outputs": []
    },
    {
      "cell_type": "markdown",
      "metadata": {
        "id": "pVVhB8IgrnK7",
        "colab_type": "text"
      },
      "source": [
        "# Preprocessing"
      ]
    },
    {
      "cell_type": "markdown",
      "metadata": {
        "id": "GvftUJy7rnK8",
        "colab_type": "text"
      },
      "source": [
        "### Cleaning Data"
      ]
    },
    {
      "cell_type": "code",
      "metadata": {
        "_kg_hide-input": true,
        "_kg_hide-output": true,
        "id": "d3f54_v2rnK9",
        "colab_type": "code",
        "colab": {}
      },
      "source": [
        "# replacing Mainland china with just China\n",
        "full_table['Country/Region'] = full_table['Country/Region'].replace('Mainland China', 'China')\n",
        "\n",
        "# filling missing values with NA\n",
        "full_table[['Province/State']] = full_table[['Province/State']].fillna('NA')"
      ],
      "execution_count": 0,
      "outputs": []
    },
    {
      "cell_type": "markdown",
      "metadata": {
        "id": "0P1m1TRCrnLA",
        "colab_type": "text"
      },
      "source": [
        "### Derived Tables"
      ]
    },
    {
      "cell_type": "code",
      "metadata": {
        "_kg_hide-input": true,
        "id": "XSkV0nl2rnLB",
        "colab_type": "code",
        "colab": {}
      },
      "source": [
        "# cases in the Diamond Princess cruise ship\n",
        "ship = full_table[full_table['Province/State']=='Diamond Princess cruise ship']\n",
        "full_table = full_table[full_table['Province/State']!='Diamond Princess cruise ship']\n",
        "china = full_table[full_table['Country/Region']=='China']\n",
        "row = full_table[full_table['Country/Region']!='China']\n",
        "\n",
        "full_latest = full_table[full_table['Date'] == max(full_table['Date'])].reset_index()\n",
        "china_latest = full_latest[full_latest['Country/Region']=='China']\n",
        "row_latest = full_latest[full_latest['Country/Region']!='China']\n",
        "\n",
        "full_latest_grouped = full_latest.groupby('Country/Region')['Confirmed', 'Deaths', 'Recovered'].sum().reset_index()\n",
        "china_latest_grouped = china_latest.groupby('Province/State')['Confirmed', 'Deaths', 'Recovered'].sum().reset_index()\n",
        "row_latest_grouped = row_latest.groupby('Country/Region')['Confirmed', 'Deaths', 'Recovered'].sum().reset_index()"
      ],
      "execution_count": 0,
      "outputs": []
    },
    {
      "cell_type": "markdown",
      "metadata": {
        "id": "0kfnMdjBrnLE",
        "colab_type": "text"
      },
      "source": [
        "# EDA"
      ]
    },
    {
      "cell_type": "markdown",
      "metadata": {
        "id": "KfktalXqrnLF",
        "colab_type": "text"
      },
      "source": [
        "## Latest Complete Data"
      ]
    },
    {
      "cell_type": "code",
      "metadata": {
        "id": "w9N1At2krnLG",
        "colab_type": "code",
        "colab": {}
      },
      "source": [
        "temp = full_latest.groupby(['Country/Region', 'Province/State'])['Confirmed', 'Deaths', 'Recovered'].max()\n",
        "temp.style.background_gradient(cmap='Pastel1_r')"
      ],
      "execution_count": 0,
      "outputs": []
    },
    {
      "cell_type": "markdown",
      "metadata": {
        "id": "--VCo4pSrnLJ",
        "colab_type": "text"
      },
      "source": [
        "## Latest Condensed Data"
      ]
    },
    {
      "cell_type": "code",
      "metadata": {
        "id": "5rD0BI6DrnLK",
        "colab_type": "code",
        "colab": {}
      },
      "source": [
        "temp = full_table.groupby('Date')['Confirmed', 'Deaths', 'Recovered'].sum()\n",
        "temp = temp.reset_index()\n",
        "temp = temp.sort_values('Date', ascending=False)\n",
        "temp.head(1).style.background_gradient(cmap='Pastel1')"
      ],
      "execution_count": 0,
      "outputs": []
    },
    {
      "cell_type": "markdown",
      "metadata": {
        "id": "zR34LEDdrnLO",
        "colab_type": "text"
      },
      "source": [
        "## World Wide Data"
      ]
    },
    {
      "cell_type": "code",
      "metadata": {
        "id": "lJ7g791ZrnLP",
        "colab_type": "code",
        "colab": {}
      },
      "source": [
        "temp_f = full_latest_grouped[['Country/Region', 'Confirmed', 'Deaths', 'Recovered']]\n",
        "temp_f = temp_f.sort_values(by='Confirmed', ascending=False)\n",
        "temp_f = temp_f.reset_index(drop=True)\n",
        "temp_f.style.background_gradient(cmap='Pastel1_r')"
      ],
      "execution_count": 0,
      "outputs": []
    },
    {
      "cell_type": "code",
      "metadata": {
        "id": "3bzrAiU4rnLR",
        "colab_type": "code",
        "colab": {}
      },
      "source": [
        "# Countries with deaths reported\n",
        "temp_flg = full_latest_grouped[['Country/Region', 'Deaths']]\n",
        "temp_flg = temp_flg.sort_values(by='Deaths', ascending=False)\n",
        "temp_flg = temp_flg.reset_index(drop=True)\n",
        "temp_flg = temp_flg[temp_flg['Deaths']>0]\n",
        "temp_flg.style.background_gradient(cmap='Reds')"
      ],
      "execution_count": 0,
      "outputs": []
    },
    {
      "cell_type": "code",
      "metadata": {
        "id": "xA5KAcpqrnLU",
        "colab_type": "code",
        "colab": {}
      },
      "source": [
        "# Countries with no cases recovered\n",
        "temp = full_latest_grouped[full_latest_grouped['Recovered']==0]\n",
        "temp = temp[['Country/Region', 'Confirmed', 'Deaths', 'Recovered']]\n",
        "temp = temp.sort_values('Confirmed', ascending=False)\n",
        "temp = temp.reset_index(drop=True)\n",
        "temp.style.background_gradient(cmap='Reds')"
      ],
      "execution_count": 0,
      "outputs": []
    },
    {
      "cell_type": "code",
      "metadata": {
        "id": "XZ3E7m12rnLX",
        "colab_type": "code",
        "colab": {}
      },
      "source": [
        "# Countries with all cases died\n",
        "temp = row_latest_grouped[row_latest_grouped['Confirmed']==\n",
        "                          row_latest_grouped['Deaths']]\n",
        "temp = temp[['Country/Region', 'Confirmed', 'Deaths']]\n",
        "temp = temp.sort_values('Confirmed', ascending=False)\n",
        "temp = temp.reset_index(drop=True)\n",
        "temp.style.background_gradient(cmap='Reds')"
      ],
      "execution_count": 0,
      "outputs": []
    },
    {
      "cell_type": "code",
      "metadata": {
        "id": "qqEQ2ZodrnLa",
        "colab_type": "code",
        "colab": {}
      },
      "source": [
        "# Countries with all the cases recovered\n",
        "temp = row_latest_grouped[row_latest_grouped['Confirmed']==\n",
        "                          row_latest_grouped['Recovered']]\n",
        "temp = temp[['Country/Region', 'Confirmed', 'Recovered']]\n",
        "temp = temp.sort_values('Confirmed', ascending=False)\n",
        "temp = temp.reset_index(drop=True)\n",
        "temp.style.background_gradient(cmap='Greens')"
      ],
      "execution_count": 0,
      "outputs": []
    },
    {
      "cell_type": "code",
      "metadata": {
        "id": "yooAkpS1rnLd",
        "colab_type": "code",
        "colab": {}
      },
      "source": [
        "# Countries with no affected case anymore\n",
        "temp = row_latest_grouped[row_latest_grouped['Confirmed']==\n",
        "                          row_latest_grouped['Deaths']+\n",
        "                          row_latest_grouped['Recovered']]\n",
        "temp = temp[['Country/Region', 'Confirmed', 'Deaths', 'Recovered']]\n",
        "temp = temp.sort_values('Confirmed', ascending=False)\n",
        "temp = temp.reset_index(drop=True)\n",
        "temp.style.background_gradient(cmap='Greens')"
      ],
      "execution_count": 0,
      "outputs": []
    },
    {
      "cell_type": "markdown",
      "metadata": {
        "id": "ptwcVeanrnLh",
        "colab_type": "text"
      },
      "source": [
        "## Data from China"
      ]
    },
    {
      "cell_type": "code",
      "metadata": {
        "id": "V9nSL2ZxrnLi",
        "colab_type": "code",
        "colab": {}
      },
      "source": [
        "temp_f = china_latest_grouped[['Province/State', 'Confirmed', 'Deaths', 'Recovered']]\n",
        "temp_f = temp_f.sort_values(by='Confirmed', ascending=False)\n",
        "temp_f = temp_f.reset_index(drop=True)\n",
        "temp_f.style.background_gradient(cmap='Pastel1_r')"
      ],
      "execution_count": 0,
      "outputs": []
    },
    {
      "cell_type": "code",
      "metadata": {
        "id": "S74LqMabrnLk",
        "colab_type": "code",
        "colab": {}
      },
      "source": [
        "# Provinces with no cases recovered\n",
        "temp = china_latest_grouped[china_latest_grouped['Recovered']==0]\n",
        "temp = temp[['Province/State', 'Confirmed', 'Deaths', 'Recovered']]\n",
        "temp = temp.sort_values('Confirmed', ascending=False)\n",
        "temp = temp.reset_index(drop=True)\n",
        "temp.style.background_gradient(cmap='Pastel1_r')"
      ],
      "execution_count": 0,
      "outputs": []
    },
    {
      "cell_type": "code",
      "metadata": {
        "id": "Yt3433D6rnLn",
        "colab_type": "code",
        "colab": {}
      },
      "source": [
        "# Provinces with all cases died\n",
        "temp = china_latest_grouped[china_latest_grouped['Confirmed']==\n",
        "                          china_latest_grouped['Deaths']]\n",
        "temp = temp[['Province/State', 'Confirmed', 'Deaths', 'Recovered']]\n",
        "temp = temp.sort_values('Confirmed', ascending=False)\n",
        "temp = temp.reset_index(drop=True)\n",
        "temp.style.background_gradient(cmap='Greens')"
      ],
      "execution_count": 0,
      "outputs": []
    },
    {
      "cell_type": "code",
      "metadata": {
        "id": "Z-n2yLE-rnLp",
        "colab_type": "code",
        "colab": {}
      },
      "source": [
        "# Provinces with all the cases recovered\n",
        "temp = china_latest_grouped[china_latest_grouped['Confirmed']==\n",
        "                          china_latest_grouped['Recovered']]\n",
        "temp = temp[['Province/State', 'Confirmed', 'Recovered']]\n",
        "temp = temp.sort_values('Confirmed', ascending=False)\n",
        "temp = temp.reset_index(drop=True)\n",
        "temp.style.background_gradient(cmap='Greens')"
      ],
      "execution_count": 0,
      "outputs": []
    },
    {
      "cell_type": "code",
      "metadata": {
        "id": "ATcsJfV_rnLs",
        "colab_type": "code",
        "colab": {}
      },
      "source": [
        "# Provinces with no affected case anymore\n",
        "temp = china_latest_grouped[china_latest_grouped['Confirmed']==\n",
        "                          china_latest_grouped['Deaths']+\n",
        "                          china_latest_grouped['Recovered']]\n",
        "temp = temp[['Province/State', 'Confirmed', 'Deaths', 'Recovered']]\n",
        "temp = temp.sort_values('Confirmed', ascending=False)\n",
        "temp = temp.reset_index(drop=True)\n",
        "temp.style.background_gradient(cmap='Greens')"
      ],
      "execution_count": 0,
      "outputs": []
    },
    {
      "cell_type": "markdown",
      "metadata": {
        "id": "bYgLmPeQrnLu",
        "colab_type": "text"
      },
      "source": [
        "# Visual EDA"
      ]
    },
    {
      "cell_type": "markdown",
      "metadata": {
        "id": "Z-OL1dltrnLv",
        "colab_type": "text"
      },
      "source": [
        "## Number of Confirmed and Deaths cases"
      ]
    },
    {
      "cell_type": "code",
      "metadata": {
        "id": "Y9yTl_SWrnLw",
        "colab_type": "code",
        "colab": {}
      },
      "source": [
        "fig = px.bar(full_latest_grouped[['Country/Region', 'Confirmed']].sort_values('Confirmed', ascending=False), \n",
        "             y=\"Confirmed\", x=\"Country/Region\", color='Country/Region', \n",
        "             log_y=True, template='ggplot2', title='Confirmed Cases')\n",
        "fig.show()\n",
        "\n",
        "fig = px.bar(full_latest_grouped[['Country/Region', 'Deaths']].sort_values('Deaths', ascending=False), \n",
        "             y=\"Deaths\", x=\"Country/Region\", color='Country/Region', title='Deaths',\n",
        "             log_y=True, template='ggplot2')\n",
        "fig.show()"
      ],
      "execution_count": 0,
      "outputs": []
    },
    {
      "cell_type": "markdown",
      "metadata": {
        "id": "buDx6Sv1rnLy",
        "colab_type": "text"
      },
      "source": [
        "## Across the globe"
      ]
    },
    {
      "cell_type": "code",
      "metadata": {
        "_kg_hide-input": true,
        "id": "bcE-yedprnLz",
        "colab_type": "code",
        "colab": {}
      },
      "source": [
        "# World wide\n",
        "\n",
        "m = folium.Map(location=[0, 0], tiles='cartodbpositron',\n",
        "               min_zoom=1, max_zoom=4, zoom_start=1)\n",
        "\n",
        "for i in range(0, len(full_latest)):\n",
        "    folium.Circle(\n",
        "        location=[full_latest.iloc[i]['Lat'], full_latest.iloc[i]['Long']],\n",
        "        color='crimson', \n",
        "        tooltip =   '<li><bold>Country : '+str(full_latest.iloc[i]['Country/Region'])+\n",
        "                    '<li><bold>Province : '+str(full_latest.iloc[i]['Province/State'])+\n",
        "                    '<li><bold>Confirmed : '+str(full_latest.iloc[i]['Confirmed'])+\n",
        "                    '<li><bold>Deaths : '+str(full_latest.iloc[i]['Deaths'])+\n",
        "                    '<li><bold>Recovered : '+str(full_latest.iloc[i]['Recovered']),\n",
        "        radius=int(full_latest.iloc[i]['Confirmed'])).add_to(m)\n",
        "m"
      ],
      "execution_count": 0,
      "outputs": []
    },
    {
      "cell_type": "markdown",
      "metadata": {
        "id": "9mpm5UGCrnL3",
        "colab_type": "text"
      },
      "source": [
        "## Reported cases in China"
      ]
    },
    {
      "cell_type": "code",
      "metadata": {
        "_kg_hide-input": true,
        "id": "immNeqhLrnL4",
        "colab_type": "code",
        "colab": {}
      },
      "source": [
        "# China \n",
        "\n",
        "m = folium.Map(location=[30, 116], tiles='cartodbpositron',\n",
        "               min_zoom=2, max_zoom=5, zoom_start=3)\n",
        "\n",
        "for i in range(0, len(china_latest)):\n",
        "    folium.Circle(\n",
        "        location=[china_latest.iloc[i]['Lat'], china_latest.iloc[i]['Long']],\n",
        "        color='crimson', \n",
        "        tooltip =   '<li><bold>Country : '+str(china_latest.iloc[i]['Country/Region'])+\n",
        "                    '<li><bold>Province : '+str(china_latest.iloc[i]['Province/State'])+\n",
        "                    '<li><bold>Confirmed : '+str(china_latest.iloc[i]['Confirmed'])+\n",
        "                    '<li><bold>Deaths : '+str(china_latest.iloc[i]['Deaths'])+\n",
        "                    '<li><bold>Recovered : '+str(china_latest.iloc[i]['Recovered']),\n",
        "        radius=int(china_latest.iloc[i]['Confirmed'])**1).add_to(m)\n",
        "m"
      ],
      "execution_count": 0,
      "outputs": []
    },
    {
      "cell_type": "markdown",
      "metadata": {
        "id": "RpA9uzRarnL7",
        "colab_type": "text"
      },
      "source": [
        "## Affected Countries"
      ]
    },
    {
      "cell_type": "code",
      "metadata": {
        "_kg_hide-input": true,
        "id": "MOAtWHk1rnL7",
        "colab_type": "code",
        "colab": {}
      },
      "source": [
        "fig = px.choropleth(full_latest_grouped, locations=\"Country/Region\", \n",
        "                    locationmode='country names', color=\"Confirmed\", \n",
        "                    hover_name=\"Country/Region\", range_color=[1,2000], \n",
        "                    color_continuous_scale=\"aggrnyl\", \n",
        "                    title='Countries with Confirmed Cases')\n",
        "fig.update(layout_coloraxis_showscale=False)\n",
        "fig.show()\n",
        "\n",
        "# ------------------------------------------------------------------------\n",
        "\n",
        "fig = px.choropleth(full_latest_grouped[full_latest_grouped['Deaths']>0], \n",
        "                    locations=\"Country/Region\", locationmode='country names',\n",
        "                    color=\"Deaths\", hover_name=\"Country/Region\", \n",
        "                    range_color=[1,50], color_continuous_scale=\"agsunset\",\n",
        "                    title='Countries with Deaths Reported')\n",
        "fig.update(layout_coloraxis_showscale=False)\n",
        "fig.show()"
      ],
      "execution_count": 0,
      "outputs": []
    },
    {
      "cell_type": "markdown",
      "metadata": {
        "id": "W8wWebtOrnL-",
        "colab_type": "text"
      },
      "source": [
        "## Spread over the time"
      ]
    },
    {
      "cell_type": "code",
      "metadata": {
        "id": "WFZGUGv9rnL_",
        "colab_type": "code",
        "colab": {}
      },
      "source": [
        "formated_gdf = full_table.groupby(['Date', 'Country/Region'])['Confirmed', 'Deaths', 'Recovered'].max()\n",
        "formated_gdf = formated_gdf.reset_index()\n",
        "formated_gdf = formated_gdf[formated_gdf['Country/Region']!='China']\n",
        "formated_gdf['Date'] = pd.to_datetime(formated_gdf['Date'])\n",
        "formated_gdf['Date'] = formated_gdf['Date'].dt.strftime('%m/%d/%Y')\n",
        "formated_gdf['size'] = formated_gdf['Confirmed'].pow(0.5)\n",
        "\n",
        "fig = px.scatter_geo(formated_gdf[formated_gdf['Country/Region']!='China'], \n",
        "                     locations=\"Country/Region\", locationmode='country names', \n",
        "                     color=\"Confirmed\", size='size', hover_name=\"Country/Region\", \n",
        "                     range_color= [0, max(formated_gdf['Confirmed'])+2], \n",
        "                     projection=\"natural earth\", animation_frame=\"Date\", \n",
        "                     title='Spread outside China over time')\n",
        "fig.update(layout_coloraxis_showscale=False)\n",
        "fig.show()\n",
        "\n",
        "# -----------------------------------------------------------------------------------\n",
        "\n",
        "china_map = china.groupby(['Date', 'Province/State'])['Confirmed', 'Deaths', 'Recovered', \n",
        "                                                      'Lat', 'Long'].max()\n",
        "china_map = china_map.reset_index()\n",
        "china_map['size'] = china_map['Confirmed'].pow(0.5)\n",
        "china_map['Date'] = pd.to_datetime(china_map['Date'])\n",
        "china_map['Date'] = china_map['Date'].dt.strftime('%m/%d/%Y')\n",
        "china_map.head()\n",
        "\n",
        "fig = px.scatter_geo(china_map, lat='Lat', lon='Long', scope='asia',\n",
        "                     color=\"size\", size='size', hover_name='Province/State', \n",
        "                     hover_data=['Confirmed', 'Deaths', 'Recovered'],\n",
        "                     projection=\"natural earth\", animation_frame=\"Date\", \n",
        "                     title='Spread in China over time')\n",
        "fig.update(layout_coloraxis_showscale=False)\n",
        "fig.show()"
      ],
      "execution_count": 0,
      "outputs": []
    },
    {
      "cell_type": "markdown",
      "metadata": {
        "id": "mrJnpHi3rnMC",
        "colab_type": "text"
      },
      "source": [
        "## Number of Places to which COVID-19 Spread"
      ]
    },
    {
      "cell_type": "code",
      "metadata": {
        "id": "BR2ajVS2rnMD",
        "colab_type": "code",
        "colab": {}
      },
      "source": [
        "c_spread = china[china['Confirmed']!=0].groupby('Date')['Province/State'].unique().apply(len)\n",
        "c_spread = pd.DataFrame(c_spread).reset_index()\n",
        "\n",
        "fig = px.line(c_spread, x='Date', y='Province/State', \n",
        "              title='Number of Provinces/States/Regions of China to which COVID-19 spread over the time',\n",
        "             color_discrete_sequence=cdr)\n",
        "fig.show()\n",
        "\n",
        "# ------------------------------------------------------------------------------------------\n",
        "\n",
        "spread = full_table[full_table['Confirmed']!=0].groupby('Date')['Country/Region'].unique().apply(len)\n",
        "spread = pd.DataFrame(spread).reset_index()\n",
        "\n",
        "fig = px.line(spread, x='Date', y='Country/Region', \n",
        "              title='Number of Countries/Regions to which COVID-19 spread over the time',\n",
        "             color_discrete_sequence=cdr)\n",
        "fig.show()"
      ],
      "execution_count": 0,
      "outputs": []
    },
    {
      "cell_type": "markdown",
      "metadata": {
        "id": "SJ7AR1QfrnMG",
        "colab_type": "text"
      },
      "source": [
        "## Diamond Princess Cruise Ship"
      ]
    },
    {
      "cell_type": "code",
      "metadata": {
        "id": "UxZ2ULUkrnMG",
        "colab_type": "code",
        "colab": {}
      },
      "source": [
        "# Cases in the Diamond Princess Cruise Ship\n",
        "temp = ship.sort_values(by='Date', ascending=False).head(1)\n",
        "temp = temp[['Province/State', 'Confirmed', 'Deaths', 'Recovered']].reset_index(drop=True)\n",
        "temp.style.background_gradient(cmap='rainbow')"
      ],
      "execution_count": 0,
      "outputs": []
    },
    {
      "cell_type": "code",
      "metadata": {
        "id": "U5Phkr_hrnMJ",
        "colab_type": "code",
        "colab": {}
      },
      "source": [
        "temp = ship[ship['Date'] == max(ship['Date'])].reset_index()\n",
        "\n",
        "m = folium.Map(location=[35.4437, 139.638], tiles='cartodbpositron',\n",
        "               min_zoom=8, max_zoom=12, zoom_start=10)\n",
        "\n",
        "folium.Circle(location=[temp.iloc[0]['Lat'], temp.iloc[0]['Long']],\n",
        "        color='crimson', \n",
        "        tooltip =   '<li><bold>Ship : '+str(temp.iloc[0]['Province/State'])+\n",
        "                    '<li><bold>Confirmed : '+str(temp.iloc[0]['Confirmed'])+\n",
        "                    '<li><bold>Deaths : '+str(temp.iloc[0]['Deaths'])+\n",
        "                    '<li><bold>Recovered : '+str(temp.iloc[0]['Recovered']),\n",
        "        radius=int(temp.iloc[0]['Confirmed'])**1).add_to(m)\n",
        "m"
      ],
      "execution_count": 0,
      "outputs": []
    },
    {
      "cell_type": "markdown",
      "metadata": {
        "id": "nk7FF01OrnML",
        "colab_type": "text"
      },
      "source": [
        "* The Diamond Princess cruise ship was carrying 3,711 passengers and crew on board\n",
        "* Ship arrived in Yokohama, near Tokyo, on February 3\n",
        "* [https://www.princess.com/news/notices_and_advisories/notices/diamond-princess-update.html](https://www.princess.com/news/notices_and_advisories/notices/diamond-princess-update.html)"
      ]
    },
    {
      "cell_type": "markdown",
      "metadata": {
        "id": "Rk8RxOhNrnMM",
        "colab_type": "text"
      },
      "source": [
        "## Cases over the time"
      ]
    },
    {
      "cell_type": "code",
      "metadata": {
        "id": "jNCXIPvUrnMM",
        "colab_type": "code",
        "colab": {}
      },
      "source": [
        "temp = full_table.groupby(['Country/Region', 'Date'])['Confirmed', 'Deaths', 'Recovered'].sum()\n",
        "temp = temp.reset_index()\n",
        "# temp.head()\n",
        "\n",
        "fig = px.bar(temp, x=\"Date\", y=\"Confirmed\", color='Country/Region', orientation='v', height=600,\n",
        "             title='Confirmed', color_discrete_sequence = px.colors.cyclical.mygbm)\n",
        "fig.show()\n",
        "\n",
        "fig = px.bar(temp, x=\"Date\", y=\"Deaths\", color='Country/Region', orientation='v', height=600,\n",
        "             title='Deaths', color_discrete_sequence = px.colors.cyclical.mygbm)\n",
        "fig.show()"
      ],
      "execution_count": 0,
      "outputs": []
    },
    {
      "cell_type": "markdown",
      "metadata": {
        "_kg_hide-input": false,
        "id": "oqNA69OjrnMP",
        "colab_type": "text"
      },
      "source": [
        "### Spread over the time"
      ]
    },
    {
      "cell_type": "code",
      "metadata": {
        "_kg_hide-input": true,
        "id": "IIpmEnSMrnMQ",
        "colab_type": "code",
        "colab": {}
      },
      "source": [
        "gdf = gdf = full_table.groupby(['Date', 'Country/Region'])['Confirmed', 'Deaths', 'Recovered'].max()\n",
        "gdf = gdf.reset_index()\n",
        "\n",
        "temp = gdf[gdf['Country/Region']=='China'].reset_index()\n",
        "temp = temp.melt(id_vars='Date', value_vars=['Confirmed', 'Deaths', 'Recovered'],\n",
        "                var_name='Case', value_name='Count')\n",
        "fig = px.bar(temp, x=\"Date\", y=\"Count\", color='Case', facet_col=\"Case\",\n",
        "            title='Cases in China', color_discrete_sequence=cdr)\n",
        "fig.show()\n",
        "\n",
        "temp = gdf[gdf['Country/Region']!='China'].groupby('Date').sum().reset_index()\n",
        "temp = temp.melt(id_vars='Date', value_vars=['Confirmed', 'Deaths', 'Recovered'],\n",
        "                var_name='Case', value_name='Count')\n",
        "fig = px.bar(temp, x=\"Date\", y=\"Count\", color='Case', facet_col=\"Case\",\n",
        "             title='Cases Outside China', color_discrete_sequence=cdr)\n",
        "fig.show()"
      ],
      "execution_count": 0,
      "outputs": []
    },
    {
      "cell_type": "markdown",
      "metadata": {
        "id": "wjwjrWKFrnMS",
        "colab_type": "text"
      },
      "source": [
        "## Hubei - China - World"
      ]
    },
    {
      "cell_type": "code",
      "metadata": {
        "id": "R0szjiIZrnMT",
        "colab_type": "code",
        "colab": {}
      },
      "source": [
        "def location(row):\n",
        "    if row['Country/Region']=='China':\n",
        "        if row['Province/State']=='Hubei':\n",
        "            return 'Hubei'\n",
        "        else:\n",
        "            return 'Other Chinese Provinces'\n",
        "    else:\n",
        "        return 'Rest of the World'\n",
        "\n",
        "temp = full_table.copy()\n",
        "temp['Region'] = temp.apply(location, axis=1)\n",
        "temp['Date'] = temp['Date'].dt.strftime('%Y-%m-%d')\n",
        "temp = temp.groupby(['Region', 'Date'])['Confirmed', 'Deaths', 'Recovered'].sum().reset_index()\n",
        "temp = temp.melt(id_vars=['Region', 'Date'], value_vars=['Confirmed', 'Deaths', 'Recovered'], \n",
        "                 var_name='Case', value_name='Count').sort_values('Count')\n",
        "# temp = temp.sort_values(['Date', 'Region', 'Case']).reset_index()\n",
        "temp.head()\n",
        "\n",
        "fig = px.bar(temp, y='Region', x='Count', color='Case', barmode='group', orientation='h',\n",
        "             text='Count', title='Hubei - China - World', animation_frame='Date',\n",
        "             color_discrete_sequence= ['#EF553B', '#00CC96', '#636EFA'], range_x=[0, 70000])\n",
        "# fig.update_traces(textposition='outside')\n",
        "# fig.update_layout(uniformtext_minsize=8, uniformtext_mode='hide')\n",
        "fig.update_layout(yaxis={'categoryorder':'array', \n",
        "                         'categoryarray':['Hubei','Other Chinese Provinces','Rest of the World']})\n",
        "fig.show()"
      ],
      "execution_count": 0,
      "outputs": []
    },
    {
      "cell_type": "code",
      "metadata": {
        "_kg_hide-input": true,
        "id": "sgf8tX7CrnMV",
        "colab_type": "code",
        "colab": {}
      },
      "source": [
        "def location(row):\n",
        "    if row['Country/Region']=='China':\n",
        "        if row['Province/State']=='Hubei':\n",
        "            return 'Hubei'\n",
        "        else:\n",
        "            return 'Other Chinese Provinces'\n",
        "    else:\n",
        "        return 'Rest of the World'\n",
        "\n",
        "temp = full_latest.copy()\n",
        "temp['Region'] = temp.apply(location, axis=1)\n",
        "temp = temp.groupby('Region')['Confirmed', 'Deaths', 'Recovered'].sum().reset_index()\n",
        "temp = temp.melt(id_vars='Region', value_vars=['Confirmed', 'Deaths', 'Recovered'], \n",
        "                 var_name='Case', value_name='Count').sort_values('Count')\n",
        "temp.head()\n",
        "\n",
        "fig = px.bar(temp, y='Region', x='Count', color='Case', barmode='group', orientation='h',\n",
        "             text='Count', title='Hubei - China - World', \n",
        "             color_discrete_sequence= ['#EF553B', '#00CC96', '#636EFA'])\n",
        "fig.update_traces(textposition='outside')\n",
        "fig.update_layout(uniformtext_minsize=8, uniformtext_mode='hide')\n",
        "fig.show()"
      ],
      "execution_count": 0,
      "outputs": []
    },
    {
      "cell_type": "markdown",
      "metadata": {
        "id": "Qu-Q_JGJrnMX",
        "colab_type": "text"
      },
      "source": [
        "# Number of new cases everyday"
      ]
    },
    {
      "cell_type": "code",
      "metadata": {
        "id": "2HzUMwEqrnMY",
        "colab_type": "code",
        "colab": {}
      },
      "source": [
        "# In China\n",
        "temp = china.groupby('Date')['Confirmed', 'Deaths', 'Recovered'].sum().diff()\n",
        "temp = temp.reset_index()\n",
        "temp = temp.melt(id_vars=\"Date\", \n",
        "                 value_vars=['Confirmed', 'Deaths', 'Recovered'])\n",
        "\n",
        "fig = px.bar(temp, x=\"Date\", y=\"value\", color='variable', \n",
        "             title='In China',\n",
        "             color_discrete_sequence=cdr)\n",
        "fig.update_layout(barmode='group')\n",
        "fig.show()\n",
        "\n",
        "#-----------------------------------------------------------------------------\n",
        "\n",
        "# ROW\n",
        "temp = row.groupby('Date')['Confirmed', 'Deaths', 'Recovered'].sum().diff()\n",
        "temp = temp.reset_index()\n",
        "temp = temp.melt(id_vars=\"Date\", \n",
        "                 value_vars=['Confirmed', 'Deaths', 'Recovered'])\n",
        "\n",
        "fig = px.bar(temp, x=\"Date\", y=\"value\", color='variable', \n",
        "             title='Outside China',\n",
        "             color_discrete_sequence=cdr)\n",
        "fig.update_layout(barmode='group')\n",
        "fig.show()"
      ],
      "execution_count": 0,
      "outputs": []
    },
    {
      "cell_type": "markdown",
      "metadata": {
        "id": "ksm3dc26rnMa",
        "colab_type": "text"
      },
      "source": [
        "## Recovery and Mortality Rate Over The Time"
      ]
    },
    {
      "cell_type": "code",
      "metadata": {
        "_kg_hide-input": true,
        "id": "7U_wuTJ0rnMb",
        "colab_type": "code",
        "colab": {}
      },
      "source": [
        "temp = full_table.groupby('Date').sum().reset_index()\n",
        "temp.head()\n",
        "\n",
        "# adding two more columns\n",
        "temp['No. of Deaths to 100 Confirmed Cases'] = round(temp['Deaths']/\n",
        "                                                     temp['Confirmed'], 3)*100\n",
        "temp['No. of Recovered to 100 Confirmed Cases'] = round(temp['Recovered']/\n",
        "                                                        temp['Confirmed'], 3)*100\n",
        "temp['No. of Recovered to 1 Death Case'] = round(temp['Recovered']/\n",
        "                                                 temp['Deaths'], 3)\n",
        "\n",
        "temp = temp.melt(id_vars='Date', \n",
        "                 value_vars=['No. of Deaths to 100 Confirmed Cases', \n",
        "                             'No. of Recovered to 100 Confirmed Cases', \n",
        "                             'No. of Recovered to 1 Death Case'], \n",
        "                 var_name='Ratio', \n",
        "                 value_name='Value')\n",
        "\n",
        "fig = px.line(temp, x=\"Date\", y=\"Value\", color='Ratio', \n",
        "              title='Recovery and Mortality Rate Over The Time',color_discrete_sequence=cdr)\n",
        "fig.show()"
      ],
      "execution_count": 0,
      "outputs": []
    },
    {
      "cell_type": "markdown",
      "metadata": {
        "id": "D7_NVWH7rnMd",
        "colab_type": "text"
      },
      "source": [
        "* During the first few weeks the there were more Deaths reported per day than Recoverd cases\n",
        "* Over the time that has changed drastically\n",
        "* Although the death rate hasn't come down, the number of recovered cases has defenitly increased"
      ]
    },
    {
      "cell_type": "markdown",
      "metadata": {
        "id": "IVroEUm9rnMd",
        "colab_type": "text"
      },
      "source": [
        "## Proportion of Cases"
      ]
    },
    {
      "cell_type": "code",
      "metadata": {
        "_kg_hide-input": true,
        "id": "TS6BCrbCrnMf",
        "colab_type": "code",
        "colab": {}
      },
      "source": [
        "rl = row_latest.groupby('Country/Region')['Confirmed', 'Deaths', 'Recovered'].sum()\n",
        "rl = rl.reset_index().sort_values(by='Confirmed', ascending=False).reset_index(drop=True)\n",
        "rl.head().style.background_gradient(cmap='rainbow')\n",
        "\n",
        "ncl = rl.copy()\n",
        "ncl['Affected'] = ncl['Confirmed'] - ncl['Deaths'] - ncl['Recovered']\n",
        "ncl = ncl.melt(id_vars=\"Country/Region\", value_vars=['Affected', 'Recovered', 'Deaths'])\n",
        "\n",
        "fig = px.bar(ncl.sort_values(['variable', 'value']), \n",
        "             x=\"Country/Region\", y=\"value\", color='variable', orientation='v', height=800,\n",
        "             # height=600, width=1000,\n",
        "             title='Number of Cases outside China', color_discrete_sequence=cdr)\n",
        "fig.update_layout(uniformtext_minsize=8, uniformtext_mode='hide')\n",
        "fig.show()\n",
        "\n",
        "# ------------------------------------------\n",
        "\n",
        "cl = china_latest.groupby('Province/State')['Confirmed', 'Deaths', 'Recovered'].sum()\n",
        "cl = cl.reset_index().sort_values(by='Confirmed', ascending=False).reset_index(drop=True)\n",
        "# cl.head().style.background_gradient(cmap='rainbow')\n",
        "\n",
        "ncl = cl.copy()\n",
        "ncl['Affected'] = ncl['Confirmed'] - ncl['Deaths'] - ncl['Recovered']\n",
        "ncl = ncl.melt(id_vars=\"Province/State\", value_vars=['Affected', 'Recovered', 'Deaths'])\n",
        "\n",
        "fig = px.bar(ncl.sort_values(['variable', 'value']), \n",
        "             y=\"Province/State\", x=\"value\", color='variable', orientation='h', height=800,\n",
        "             # height=600, width=1000,\n",
        "             title='Number of Cases in China', color_discrete_sequence=cdr)\n",
        "fig.update_layout(uniformtext_minsize=8, uniformtext_mode='hide')\n",
        "fig.show()"
      ],
      "execution_count": 0,
      "outputs": []
    },
    {
      "cell_type": "code",
      "metadata": {
        "_kg_hide-input": true,
        "id": "hB8qC1--rnMi",
        "colab_type": "code",
        "colab": {}
      },
      "source": [
        "fig = px.treemap(china_latest.sort_values(by='Confirmed', ascending=False).reset_index(drop=True), \n",
        "                 path=[\"Province/State\"], values=\"Confirmed\", \n",
        "                 title='Number of Confirmed Cases in Chinese Provinces',\n",
        "                 color_discrete_sequence = px.colors.qualitative.Prism)\n",
        "fig.show()\n",
        "\n",
        "fig = px.treemap(china_latest.sort_values(by='Deaths', ascending=False).reset_index(drop=True), \n",
        "                 path=[\"Province/State\"], values=\"Deaths\", \n",
        "                 title='Number of Deaths Reported in Chinese Provinces',\n",
        "                 color_discrete_sequence = px.colors.qualitative.Prism)\n",
        "fig.show()\n",
        "\n",
        "fig = px.treemap(china_latest.sort_values(by='Recovered', ascending=False).reset_index(drop=True), \n",
        "                 path=[\"Province/State\"], values=\"Recovered\", \n",
        "                 title='Number of Recovered Cases in Chinese Provinces',\n",
        "                 color_discrete_sequence = px.colors.qualitative.Prism)\n",
        "fig.show()\n",
        "\n",
        "# ----------------------------------------------------------------------------\n",
        "\n",
        "fig = px.treemap(row_latest, path=[\"Country/Region\"], values=\"Confirmed\", \n",
        "                 title='Number of Confirmed Cases outside china',\n",
        "                 color_discrete_sequence = px.colors.qualitative.Pastel)\n",
        "fig.show()\n",
        "\n",
        "fig = px.treemap(row_latest, path=[\"Country/Region\"], values=\"Deaths\", \n",
        "                 title='Number of Deaths outside china',\n",
        "                 color_discrete_sequence = px.colors.qualitative.Pastel)\n",
        "fig.show()\n",
        "\n",
        "fig = px.treemap(row_latest, path=[\"Country/Region\"], values=\"Recovered\", \n",
        "                 title='Number of Recovered Cases outside china',\n",
        "                 color_discrete_sequence = px.colors.qualitative.Pastel)\n",
        "fig.show()"
      ],
      "execution_count": 0,
      "outputs": []
    },
    {
      "cell_type": "code",
      "metadata": {
        "id": "qvpQjbIjrnMm",
        "colab_type": "code",
        "colab": {}
      },
      "source": [
        "temp = full_table.groupby(['Country/Region', 'Date', ])['Confirmed', 'Deaths', 'Recovered']\n",
        "temp = temp.sum().diff().reset_index()\n",
        "\n",
        "mask = temp['Country/Region'] != temp['Country/Region'].shift(1)\n",
        "\n",
        "temp.loc[mask, 'Confirmed'] = np.nan\n",
        "temp.loc[mask, 'Deaths'] = np.nan\n",
        "temp.loc[mask, 'Recovered'] = np.nan\n",
        "\n",
        "fig = px.bar(temp, x=\"Date\", y=\"Confirmed\", color='Country/Region',\n",
        "             title='Number of new cases everyday')\n",
        "fig.show()\n",
        "\n",
        "fig = px.bar(temp[temp['Country/Region']!='China'], x=\"Date\", y=\"Confirmed\", color='Country/Region',\n",
        "             title='Number of new cases outside China everyday')\n",
        "fig.show()\n",
        "\n",
        "fig = px.bar(temp, x=\"Date\", y=\"Deaths\", color='Country/Region',\n",
        "             title='Number of new death case reported outside China everyday')\n",
        "fig.show()\n",
        "\n",
        "fig = px.bar(temp[temp['Country/Region']!='China'], x=\"Date\", y=\"Deaths\", color='Country/Region',\n",
        "             title='Number of new death case reported outside China everyday')\n",
        "fig.show()"
      ],
      "execution_count": 0,
      "outputs": []
    },
    {
      "cell_type": "markdown",
      "metadata": {
        "id": "I2I1UEPxrnMp",
        "colab_type": "text"
      },
      "source": [
        "## Confirmed cases in each Countries"
      ]
    },
    {
      "cell_type": "code",
      "metadata": {
        "id": "oDJ_YPrSrnMr",
        "colab_type": "code",
        "colab": {}
      },
      "source": [
        "temp = full_table.groupby(['Date', 'Country/Region'])['Confirmed'].sum()\n",
        "temp = temp.reset_index().sort_values(by=['Date', 'Country/Region'])\n",
        "temp.head()\n",
        "\n",
        "plt.style.use('seaborn')\n",
        "g = sns.FacetGrid(temp, col=\"Country/Region\", hue=\"Country/Region\", \n",
        "                  sharey=False, col_wrap=5)\n",
        "g = g.map(plt.plot, \"Date\", \"Confirmed\")\n",
        "g.set_xticklabels(rotation=90)\n",
        "plt.show()"
      ],
      "execution_count": 0,
      "outputs": []
    },
    {
      "cell_type": "markdown",
      "metadata": {
        "id": "5nzxNvwCrnMu",
        "colab_type": "text"
      },
      "source": [
        "## New cases in each Countries"
      ]
    },
    {
      "cell_type": "code",
      "metadata": {
        "id": "3fPpg_DsrnMv",
        "colab_type": "code",
        "colab": {}
      },
      "source": [
        "temp = full_table.groupby(['Country/Region', 'Date', ])['Confirmed', 'Deaths', 'Recovered']\n",
        "temp = temp.sum().diff().reset_index()\n",
        "\n",
        "mask = temp['Country/Region'] != temp['Country/Region'].shift(1)\n",
        "\n",
        "temp.loc[mask, 'Confirmed'] = np.nan\n",
        "temp.loc[mask, 'Deaths'] = np.nan\n",
        "temp.loc[mask, 'Recovered'] = np.nan\n",
        "\n",
        "plt.style.use('seaborn')\n",
        "g = sns.FacetGrid(temp, col=\"Country/Region\", hue=\"Country/Region\", \n",
        "                  sharey=False, col_wrap=5)\n",
        "g = g.map(sns.lineplot, \"Date\", \"Confirmed\")\n",
        "g.set_xticklabels(rotation=90)\n",
        "plt.show()"
      ],
      "execution_count": 0,
      "outputs": []
    },
    {
      "cell_type": "markdown",
      "metadata": {
        "id": "0l56RMnkrnMx",
        "colab_type": "text"
      },
      "source": [
        "# New cases Everyday"
      ]
    },
    {
      "cell_type": "code",
      "metadata": {
        "id": "v9XFQ9kLrnMy",
        "colab_type": "code",
        "colab": {}
      },
      "source": [
        "def from_china_or_not(row):\n",
        "    if row['Country/Region']=='China':\n",
        "        return 'From China'\n",
        "    else:\n",
        "        return 'Outside China'\n",
        "    \n",
        "temp = full_table.copy()\n",
        "temp['Region'] = temp.apply(from_china_or_not, axis=1)\n",
        "temp = temp.groupby(['Region', 'Date'])['Confirmed', 'Deaths', 'Recovered']\n",
        "temp = temp.sum().diff().reset_index()\n",
        "mask = temp['Region'] != temp['Region'].shift(1)\n",
        "temp.loc[mask, 'Confirmed'] = np.nan\n",
        "temp.loc[mask, 'Deaths'] = np.nan\n",
        "temp.loc[mask, 'Recovered'] = np.nan\n",
        "\n",
        "fig = px.bar(temp, x='Date', y='Confirmed', color='Region', barmode='group', \n",
        "             text='Confirmed', title='Confirmed', color_discrete_sequence= cdr)\n",
        "fig.update_traces(textposition='outside')\n",
        "fig.show()\n",
        "\n",
        "fig = px.bar(temp, x='Date', y='Deaths', color='Region', barmode='group', \n",
        "             text='Confirmed', title='Deaths', color_discrete_sequence= cdr)\n",
        "fig.update_traces(textposition='outside')\n",
        "fig.update_traces(textangle=-90)\n",
        "fig.show()"
      ],
      "execution_count": 0,
      "outputs": []
    },
    {
      "cell_type": "code",
      "metadata": {
        "id": "VD9cEHQHrnM4",
        "colab_type": "code",
        "colab": {}
      },
      "source": [
        ""
      ],
      "execution_count": 0,
      "outputs": []
    }
  ]
}